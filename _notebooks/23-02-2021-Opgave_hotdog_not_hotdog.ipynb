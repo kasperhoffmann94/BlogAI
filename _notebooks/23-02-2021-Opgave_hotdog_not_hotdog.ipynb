{
  "nbformat": 4,
  "nbformat_minor": 0,
  "metadata": {
    "colab": {
      "name": "Opgave hotdog not hotdog.ipynb",
      "provenance": [],
      "collapsed_sections": [],
      "toc_visible": true
    },
    "kernelspec": {
      "name": "python3",
      "display_name": "Python 3"
    }
  },
  "cells": [
    {
      "cell_type": "code",
      "metadata": {
        "id": "84g5vIOPO3g1",
        "colab": {
          "base_uri": "https://localhost:8080/"
        },
        "outputId": "c80f5593-707a-45b8-f92d-6f68042ccffb"
      },
      "source": [
        "!pip install -Uqq fastbook\r\n",
        "import fastbook\r\n",
        "fastbook.setup_book()\r\n",
        "#hide\r\n",
        "from fastbook import *\r\n",
        "from fastai.vision.widgets import *\r\n",
        "import requests\r\n"
      ],
      "execution_count": null,
      "outputs": [
        {
          "output_type": "stream",
          "text": [
            "\u001b[K     |████████████████████████████████| 727kB 6.8MB/s \n",
            "\u001b[K     |████████████████████████████████| 51kB 5.2MB/s \n",
            "\u001b[K     |████████████████████████████████| 1.2MB 13.4MB/s \n",
            "\u001b[K     |████████████████████████████████| 194kB 31.4MB/s \n",
            "\u001b[K     |████████████████████████████████| 61kB 5.9MB/s \n",
            "\u001b[?25hMounted at /content/gdrive\n"
          ],
          "name": "stdout"
        }
      ]
    },
    {
      "cell_type": "code",
      "metadata": {
        "id": "K-mYEYAMPBoM"
      },
      "source": [
        "def search_images_bing_new(key, term, customConfigId, min_sz=128):\r\n",
        "\turl = 'https://api.bing.microsoft.com/v7.0/custom/images/search?' + 'q=' + term + '&' + 'customconfig=' + customConfigId + '&' + 'count=150'\r\n",
        "\tr = requests.get(url, headers={'Ocp-Apim-Subscription-Key': key})\r\n",
        "\tsearch_results = r.json()\r\n",
        "\treturn L([img[\"thumbnailUrl\"] + \".jpg\" for img in search_results[\"value\"][:150]])\r\n"
      ],
      "execution_count": null,
      "outputs": []
    },
    {
      "cell_type": "code",
      "metadata": {
        "id": "me4zx86JXA1K"
      },
      "source": [
        "hotdogs = search_images_bing_new('1be3ada0f2a649d087e9fb39798485a0', 'hotdog', 'efb1b149-c219-4091-be6d-14a279c405c4')"
      ],
      "execution_count": null,
      "outputs": []
    },
    {
      "cell_type": "code",
      "metadata": {
        "colab": {
          "base_uri": "https://localhost:8080/"
        },
        "id": "4GDUPyjEXNCF",
        "outputId": "bbba4739-2c96-4fb4-eb9b-2ffe50c7211b"
      },
      "source": [
        "hotdogs"
      ],
      "execution_count": null,
      "outputs": [
        {
          "output_type": "execute_result",
          "data": {
            "text/plain": [
              "(#150) ['https://tse2.mm.bing.net/th?id=OIP.WwNG0Db_o58XuR8uyHFGJQHaE8&pid=Api.jpg','https://tse3.mm.bing.net/th?id=OIP.1Xkr3YbMeVXI-QJL8w6AigHaDt&pid=Api.jpg','https://tse2.mm.bing.net/th?id=OIP.QHEOpw8npesuG0h6ojJ0HwHaFj&pid=Api.jpg','https://tse3.mm.bing.net/th?id=OIP.UyKMCHBsnEpwRGlJmu1HWQHaE8&pid=Api.jpg','https://tse2.mm.bing.net/th?id=OIP.3IVuG7q7Q3B_BmyXkvjz0gHaFj&pid=Api.jpg','https://tse4.mm.bing.net/th?id=OIP.uovloOsMkI8LfzTheiLThQHaE6&pid=Api.jpg','https://tse4.mm.bing.net/th?id=OIP.au202vJwBfwntBr4Byjw5wHaFj&pid=Api.jpg','https://tse1.mm.bing.net/th?id=OIP.nE5Gj2cAgzraJHOhzBG65AHaEK&pid=Api.jpg','https://tse3.mm.bing.net/th?id=OIP.WqTuusD_RbVuMEIbIDlFsQHaD4&pid=Api.jpg','https://tse1.mm.bing.net/th?id=OIP.P8GRsSEg7Eh6btc5vTDvCAHaEK&pid=Api.jpg'...]"
            ]
          },
          "metadata": {
            "tags": []
          },
          "execution_count": 5
        }
      ]
    },
    {
      "cell_type": "code",
      "metadata": {
        "colab": {
          "base_uri": "https://localhost:8080/",
          "height": 36
        },
        "id": "RJs30iPCXQaT",
        "outputId": "3fcfb700-72eb-41d5-996d-2a395ef2066d"
      },
      "source": [
        "hotdogs[0]"
      ],
      "execution_count": null,
      "outputs": [
        {
          "output_type": "execute_result",
          "data": {
            "application/vnd.google.colaboratory.intrinsic+json": {
              "type": "string"
            },
            "text/plain": [
              "'https://tse2.mm.bing.net/th?id=OIP.WwNG0Db_o58XuR8uyHFGJQHaE8&pid=Api.jpg'"
            ]
          },
          "metadata": {
            "tags": []
          },
          "execution_count": 161
        }
      ]
    },
    {
      "cell_type": "code",
      "metadata": {
        "id": "bm64GRdSQPyi"
      },
      "source": [
        "food_types = 'hotdog','burger'\r\n",
        "path = Path('foods')\r\n",
        "if not path.exists():\r\n",
        "  path.mkdir()\r\n",
        "  for f in food_types:\r\n",
        "    dest = (path/f)\r\n",
        "    dest.mkdir(exist_ok=True)\r\n",
        "    results = search_images_bing_new('1be3ada0f2a649d087e9fb39798485a0', f, 'efb1b149-c219-4091-be6d-14a279c405c4')\r\n",
        "    download_images(dest, urls=results)"
      ],
      "execution_count": null,
      "outputs": []
    },
    {
      "cell_type": "code",
      "metadata": {
        "colab": {
          "base_uri": "https://localhost:8080/"
        },
        "id": "W-djQV00TTxB",
        "outputId": "be1b8ee8-bf02-4e69-ceeb-31178c2380ed"
      },
      "source": [
        "fns = get_image_files(path)\r\n",
        "fns"
      ],
      "execution_count": null,
      "outputs": [
        {
          "output_type": "execute_result",
          "data": {
            "text/plain": [
              "(#300) [Path('foods/hotdog/00000059.jpg'),Path('foods/hotdog/00000034.jpg'),Path('foods/hotdog/00000015.jpg'),Path('foods/hotdog/00000002.jpg'),Path('foods/hotdog/00000095.jpg'),Path('foods/hotdog/00000025.jpg'),Path('foods/hotdog/00000096.jpg'),Path('foods/hotdog/00000019.jpg'),Path('foods/hotdog/00000044.jpg'),Path('foods/hotdog/00000023.jpg')...]"
            ]
          },
          "metadata": {
            "tags": []
          },
          "execution_count": 163
        }
      ]
    },
    {
      "cell_type": "code",
      "metadata": {
        "colab": {
          "base_uri": "https://localhost:8080/"
        },
        "id": "AeT-AQz9aLif",
        "outputId": "4e67be30-b49c-42ba-cbd5-e8894f8c6a15"
      },
      "source": [
        "failed = verify_images(fns)\r\n",
        "failed"
      ],
      "execution_count": null,
      "outputs": [
        {
          "output_type": "execute_result",
          "data": {
            "text/plain": [
              "(#0) []"
            ]
          },
          "metadata": {
            "tags": []
          },
          "execution_count": 164
        }
      ]
    },
    {
      "cell_type": "code",
      "metadata": {
        "id": "98DtI41bi1aQ"
      },
      "source": [
        "class DataLoaders(GetAttr):\r\n",
        "  def __init__(self, *loaders): self.loaders = loaders\r\n",
        "  def __getitem__(self, i): return self.loaders[i]\r\n",
        "  train, valid = add_props(lambda i, self: self[i])"
      ],
      "execution_count": null,
      "outputs": []
    },
    {
      "cell_type": "code",
      "metadata": {
        "id": "Fz0zzfCJjV_W"
      },
      "source": [
        "foods = DataBlock(\r\n",
        "blocks=(ImageBlock, CategoryBlock),\r\n",
        "get_items=get_image_files,\r\n",
        "splitter=RandomSplitter(valid_pct=0.2, seed=42),\r\n",
        "get_y=parent_label,\r\n",
        "item_tfms=Resize(128))"
      ],
      "execution_count": null,
      "outputs": []
    }
  ]
}